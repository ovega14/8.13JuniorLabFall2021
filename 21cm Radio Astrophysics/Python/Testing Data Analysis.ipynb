{
 "cells": [
  {
   "cell_type": "markdown",
   "metadata": {},
   "source": [
    "**Imports**"
   ]
  },
  {
   "cell_type": "code",
   "execution_count": 1,
   "metadata": {},
   "outputs": [],
   "source": [
    "import numpy as np\n",
    "import pandas as pd\n",
    "import matplotlib as mpl\n",
    "import matplotlib.pyplot as plt\n",
    "import modplot\n",
    "import os"
   ]
  },
  {
   "cell_type": "markdown",
   "metadata": {},
   "source": [
    "**Get the Data**"
   ]
  },
  {
   "cell_type": "code",
   "execution_count": 2,
   "metadata": {},
   "outputs": [
    {
     "data": {
      "text/plain": [
       "'C:\\\\Users\\\\vega0\\\\Documents\\\\Academics\\\\MIT Course Materials\\\\Course 8 Physics\\\\8.13 Experimental Physics 1\\\\Fall 2021\\\\Experiment Sequences\\\\21cm Radio Astrophysics\\\\Python'"
      ]
     },
     "execution_count": 2,
     "metadata": {},
     "output_type": "execute_result"
    }
   ],
   "source": [
    "os.getcwd()"
   ]
  },
  {
   "cell_type": "code",
   "execution_count": 6,
   "metadata": {},
   "outputs": [],
   "source": [
    "base_dir = 'C:\\\\Users\\\\vega0\\\\Documents\\\\Academics\\\\MIT Course Materials\\\\Course 8 Physics\\\\8.13 Experimental Physics 1\\\\Fall 2021\\\\Experiment Sequences\\\\21cm Radio Astrophysics'\n",
    "\n",
    "dir_data = base_dir + '\\\\Data\\\\10-26-2021'\n",
    "dir_plot = base_dir + '\\\\Pictures'"
   ]
  },
  {
   "cell_type": "code",
   "execution_count": 7,
   "metadata": {},
   "outputs": [],
   "source": [
    "os.chdir(dir_data)"
   ]
  },
  {
   "cell_type": "code",
   "execution_count": 8,
   "metadata": {},
   "outputs": [
    {
     "data": {
      "text/plain": [
       "['az_scan_1.rad',\n",
       " 'az_scan_2.rad',\n",
       " 'az_scan_3.rad',\n",
       " 'el_scan_1.rad',\n",
       " 'el_scan_2.rad',\n",
       " 'el_scan_3.rad',\n",
       " 'grid_scan_1.rad',\n",
       " 'grid_scan_2.rad']"
      ]
     },
     "execution_count": 8,
     "metadata": {},
     "output_type": "execute_result"
    }
   ],
   "source": [
    "os.listdir()"
   ]
  },
  {
   "cell_type": "markdown",
   "metadata": {},
   "source": [
    "Use a Test Azimuth Scan"
   ]
  },
  {
   "cell_type": "code",
   "execution_count": 13,
   "metadata": {},
   "outputs": [],
   "source": [
    "f = open('az_scan_1.rad', 'r')\n",
    "file = f.readlines()"
   ]
  },
  {
   "cell_type": "code",
   "execution_count": 22,
   "metadata": {},
   "outputs": [],
   "source": [
    "data = file[5:][::2]"
   ]
  },
  {
   "cell_type": "code",
   "execution_count": 23,
   "metadata": {},
   "outputs": [
    {
     "data": {
      "text/plain": [
       "['2021:299:19:44:56\\t 231.3\\t 18.7\\t  0.0\\t  0.0\\t329.5\\t 46.3\\t 1419.75\\t0.00781250\\t  1\\t 64\\t  4.2\\t  5.3\\t  9.1\\t 18.3\\t 35.7\\t 64.9\\t106.0\\t139.7\\t199.7\\t193.9\\t196.6\\t193.2\\t198.9\\t196.3\\t195.3\\t195.1\\t189.8\\t194.5\\t191.9\\t195.4\\t191.4\\t190.3\\t193.5\\t194.6\\t198.1\\t193.1\\t196.6\\t190.6\\t194.2\\t187.8\\t193.4\\t194.3\\t195.7\\t196.0\\t200.0\\t198.3\\t191.5\\t197.5\\t200.2\\t192.5\\t192.3\\t197.6\\t188.7\\t190.3\\t190.5\\t195.4\\t191.6\\t193.8\\t192.1\\t199.6\\t190.8\\t194.9\\t195.7\\t196.2\\t193.1\\t201.5\\t193.2\\t136.1\\t 98.4\\t 62.8\\t 36.6\\t 19.4\\t  9.2\\t  5.3\\tvlsr\\t   -7.20\\n',\n",
       " '2021:299:19:45:13\\t 216.3\\t 18.8\\t-15.0\\t  0.0\\t338.6\\t 33.9\\t 1419.75\\t0.00781250\\t  1\\t 64\\t  2.7\\t  3.3\\t  5.9\\t 11.8\\t 23.6\\t 41.7\\t 71.5\\t 91.2\\t127.5\\t125.2\\t124.1\\t124.1\\t121.8\\t125.2\\t124.1\\t121.1\\t123.0\\t121.1\\t117.4\\t120.3\\t118.9\\t120.6\\t117.5\\t119.8\\t115.1\\t119.1\\t120.0\\t119.7\\t117.3\\t121.7\\t120.6\\t121.6\\t119.5\\t119.2\\t118.2\\t123.0\\t123.4\\t122.7\\t120.9\\t122.7\\t121.3\\t120.1\\t118.9\\t118.6\\t124.3\\t122.4\\t118.6\\t117.8\\t122.0\\t118.1\\t118.3\\t120.0\\t120.7\\t124.7\\t121.0\\t123.0\\t120.7\\t 82.9\\t 59.7\\t 38.4\\t 22.2\\t 11.6\\t  5.7\\t  3.3\\tvlsr\\t   -1.26\\n',\n",
       " '2021:299:19:45:18\\t 217.4\\t 18.8\\t-14.0\\t  0.0\\t338.1\\t 34.8\\t 1419.75\\t0.00781250\\t  1\\t 64\\t  2.6\\t  3.3\\t  5.9\\t 11.5\\t 23.3\\t 39.5\\t 68.8\\t 91.2\\t123.4\\t125.2\\t125.9\\t126.2\\t128.0\\t123.7\\t121.6\\t126.2\\t122.0\\t122.6\\t123.6\\t121.8\\t120.8\\t121.9\\t120.5\\t120.7\\t122.5\\t118.2\\t114.0\\t116.8\\t119.3\\t117.3\\t119.7\\t119.8\\t120.1\\t120.4\\t118.6\\t118.1\\t119.1\\t119.1\\t116.2\\t115.0\\t117.3\\t119.9\\t118.8\\t120.2\\t118.6\\t122.2\\t119.0\\t122.2\\t119.4\\t121.5\\t118.2\\t120.0\\t121.6\\t125.0\\t119.8\\t121.9\\t126.4\\t 83.0\\t 60.0\\t 38.9\\t 22.5\\t 11.2\\t  5.6\\t  3.2\\tvlsr\\t   -1.67\\n',\n",
       " '2021:299:19:45:23\\t 218.4\\t 18.8\\t-13.0\\t  0.0\\t337.5\\t 35.6\\t 1419.75\\t0.00781250\\t  1\\t 64\\t  2.7\\t  3.3\\t  5.7\\t 11.8\\t 23.3\\t 40.4\\t 71.5\\t 90.7\\t124.6\\t126.4\\t121.3\\t128.7\\t123.4\\t124.9\\t120.6\\t120.6\\t123.5\\t123.4\\t118.2\\t119.3\\t119.5\\t118.6\\t118.6\\t121.5\\t116.5\\t117.1\\t119.2\\t123.1\\t123.3\\t119.8\\t119.8\\t117.7\\t120.8\\t118.1\\t118.6\\t120.7\\t124.4\\t123.1\\t120.8\\t120.0\\t119.7\\t117.6\\t118.2\\t116.4\\t121.6\\t119.7\\t121.3\\t119.2\\t120.2\\t120.0\\t126.9\\t114.9\\t122.4\\t120.0\\t123.8\\t122.5\\t121.8\\t 81.5\\t 61.2\\t 39.3\\t 21.8\\t 11.5\\t  5.6\\t  3.3\\tvlsr\\t   -2.09\\n',\n",
       " '2021:299:19:45:27\\t 219.2\\t 18.8\\t-12.0\\t  0.0\\t337.1\\t 36.3\\t 1419.75\\t0.00781250\\t  1\\t 64\\t  2.7\\t  3.3\\t  5.9\\t 11.5\\t 22.8\\t 39.8\\t 69.7\\t 86.2\\t128.2\\t128.1\\t124.8\\t121.2\\t122.8\\t120.6\\t119.7\\t118.0\\t118.8\\t122.3\\t119.0\\t117.7\\t116.7\\t120.5\\t119.1\\t119.3\\t117.7\\t117.3\\t118.0\\t120.7\\t117.4\\t121.0\\t116.7\\t118.4\\t120.5\\t118.7\\t119.5\\t117.6\\t118.0\\t119.4\\t117.2\\t122.1\\t120.0\\t119.0\\t116.1\\t117.1\\t116.7\\t117.4\\t122.7\\t118.6\\t119.5\\t116.4\\t118.8\\t120.2\\t120.9\\t120.8\\t121.0\\t119.3\\t124.8\\t 83.5\\t 60.8\\t 38.6\\t 22.5\\t 11.6\\t  5.6\\t  3.3\\tvlsr\\t   -2.42\\n',\n",
       " '2021:299:19:45:32\\t 220.3\\t 18.8\\t-11.0\\t  0.0\\t336.5\\t 37.2\\t 1419.75\\t0.00781250\\t  1\\t 64\\t  2.7\\t  3.3\\t  6.0\\t 11.9\\t 23.1\\t 39.8\\t 70.3\\t 88.3\\t126.2\\t127.1\\t126.5\\t124.4\\t122.4\\t127.2\\t122.8\\t122.9\\t122.4\\t125.2\\t121.3\\t121.4\\t118.9\\t120.0\\t123.4\\t123.0\\t120.5\\t119.5\\t118.1\\t121.5\\t124.6\\t115.1\\t121.0\\t119.8\\t117.8\\t122.3\\t118.9\\t117.2\\t119.7\\t122.0\\t124.0\\t121.6\\t123.9\\t120.1\\t120.8\\t122.0\\t122.5\\t120.0\\t119.6\\t122.5\\t126.7\\t123.5\\t123.9\\t122.6\\t121.2\\t122.4\\t123.7\\t124.7\\t123.0\\t 88.0\\t 61.2\\t 38.7\\t 22.7\\t 11.8\\t  5.7\\t  3.3\\tvlsr\\t   -2.83\\n',\n",
       " '2021:299:19:45:36\\t 221.4\\t 18.8\\t-10.0\\t  0.0\\t335.9\\t 38.0\\t 1419.75\\t0.00781250\\t  1\\t 64\\t  2.7\\t  3.3\\t  5.9\\t 11.9\\t 23.1\\t 40.1\\t 71.4\\t 90.0\\t122.9\\t126.3\\t123.7\\t123.1\\t123.7\\t127.4\\t122.4\\t124.9\\t124.1\\t122.5\\t122.9\\t122.4\\t121.3\\t121.2\\t125.0\\t121.0\\t123.4\\t118.6\\t120.2\\t124.3\\t120.4\\t118.8\\t121.8\\t122.6\\t121.1\\t121.7\\t119.5\\t120.2\\t124.4\\t121.1\\t122.4\\t120.9\\t120.3\\t118.7\\t122.0\\t118.8\\t124.0\\t121.1\\t123.3\\t128.4\\t125.9\\t122.5\\t123.8\\t120.9\\t118.5\\t122.5\\t120.1\\t123.5\\t123.9\\t 84.2\\t 61.2\\t 39.9\\t 23.4\\t 12.1\\t  5.7\\t  3.3\\tvlsr\\t   -3.25\\n',\n",
       " '2021:299:19:45:42\\t 222.4\\t 18.7\\t -9.0\\t  0.0\\t335.1\\t 38.8\\t 1419.75\\t0.00781250\\t  1\\t 64\\t  2.6\\t  3.2\\t  5.7\\t 11.3\\t 22.2\\t 38.7\\t 68.7\\t 88.9\\t122.1\\t123.8\\t120.0\\t126.2\\t121.8\\t120.2\\t124.7\\t125.6\\t119.4\\t119.2\\t119.3\\t118.1\\t117.9\\t121.4\\t119.7\\t118.7\\t119.4\\t124.3\\t119.9\\t119.7\\t122.9\\t119.4\\t120.3\\t120.5\\t122.8\\t120.1\\t121.6\\t118.1\\t116.2\\t123.1\\t123.2\\t118.3\\t118.3\\t119.2\\t120.9\\t120.5\\t119.2\\t122.4\\t119.8\\t121.3\\t124.7\\t124.2\\t119.6\\t117.4\\t120.4\\t121.9\\t123.5\\t121.1\\t126.2\\t 84.4\\t 61.8\\t 38.9\\t 22.5\\t 11.2\\t  5.7\\t  3.2\\tvlsr\\t   -3.63\\n',\n",
       " '2021:299:19:45:47\\t 223.5\\t 18.7\\t -8.0\\t  0.0\\t334.5\\t 39.7\\t 1419.75\\t0.00781250\\t  1\\t 64\\t  2.6\\t  3.3\\t  5.9\\t 11.9\\t 22.8\\t 40.8\\t 70.0\\t 88.3\\t127.3\\t123.0\\t124.7\\t123.3\\t124.6\\t125.5\\t122.4\\t126.3\\t123.5\\t126.2\\t121.7\\t123.3\\t123.2\\t120.9\\t125.7\\t123.5\\t121.7\\t124.8\\t125.6\\t121.4\\t123.0\\t122.7\\t122.0\\t127.9\\t122.0\\t120.5\\t124.4\\t127.2\\t126.5\\t125.9\\t127.5\\t123.1\\t120.8\\t123.7\\t124.7\\t124.0\\t120.1\\t123.6\\t126.0\\t123.8\\t121.1\\t123.5\\t120.6\\t125.8\\t128.0\\t127.4\\t127.5\\t129.7\\t123.7\\t 88.3\\t 64.1\\t 40.2\\t 23.1\\t 11.9\\t  6.0\\t  3.3\\tvlsr\\t   -4.04\\n',\n",
       " '2021:299:19:45:52\\t 224.5\\t 18.7\\t -7.0\\t  0.0\\t333.9\\t 40.6\\t 1419.75\\t0.00781250\\t  1\\t 64\\t  2.7\\t  3.3\\t  5.6\\t 11.8\\t 22.1\\t 39.9\\t 69.9\\t 86.2\\t121.3\\t120.7\\t120.3\\t121.8\\t119.1\\t124.8\\t119.1\\t122.0\\t118.3\\t121.0\\t120.2\\t118.7\\t122.6\\t117.6\\t120.6\\t123.2\\t119.7\\t118.6\\t121.1\\t120.5\\t119.3\\t121.4\\t119.7\\t123.7\\t122.8\\t119.3\\t119.5\\t117.0\\t122.0\\t118.7\\t123.0\\t120.6\\t120.0\\t123.2\\t121.1\\t118.5\\t120.7\\t120.3\\t118.6\\t123.7\\t122.0\\t120.9\\t119.9\\t121.2\\t118.2\\t123.6\\t121.2\\t124.4\\t120.0\\t 82.6\\t 61.7\\t 39.8\\t 22.5\\t 11.2\\t  5.7\\t  3.3\\tvlsr\\t   -4.46\\n',\n",
       " '2021:299:19:45:56\\t 225.4\\t 18.7\\t -6.0\\t  0.0\\t333.4\\t 41.3\\t 1419.75\\t0.00781250\\t  1\\t 64\\t  2.6\\t  3.3\\t  5.7\\t 11.2\\t 22.4\\t 38.7\\t 70.0\\t 87.6\\t120.7\\t123.6\\t122.6\\t118.9\\t122.5\\t121.1\\t115.8\\t115.9\\t119.8\\t121.3\\t121.1\\t121.2\\t118.7\\t121.4\\t120.5\\t120.4\\t123.1\\t119.2\\t120.0\\t122.1\\t120.0\\t119.2\\t118.8\\t118.1\\t116.4\\t119.3\\t118.9\\t122.1\\t122.0\\t116.1\\t122.5\\t120.7\\t118.7\\t118.4\\t120.8\\t119.9\\t120.4\\t121.7\\t117.4\\t122.3\\t121.2\\t124.3\\t122.0\\t121.4\\t122.5\\t124.1\\t121.5\\t123.8\\t122.5\\t 84.8\\t 58.4\\t 39.3\\t 22.8\\t 11.3\\t  5.7\\t  3.2\\tvlsr\\t   -4.79\\n',\n",
       " '2021:299:19:46:01\\t 226.4\\t 18.7\\t -5.0\\t  0.0\\t332.8\\t 42.1\\t 1419.75\\t0.00781250\\t  1\\t 64\\t  2.7\\t  3.3\\t  5.9\\t 11.8\\t 23.3\\t 41.1\\t 72.0\\t 90.1\\t127.3\\t127.4\\t125.6\\t123.0\\t121.2\\t123.5\\t121.6\\t121.2\\t124.0\\t122.2\\t126.4\\t126.5\\t122.2\\t120.8\\t122.8\\t124.4\\t128.3\\t122.7\\t117.7\\t125.0\\t125.6\\t123.7\\t120.7\\t122.9\\t121.6\\t121.0\\t123.8\\t123.0\\t120.6\\t124.0\\t125.3\\t122.1\\t123.9\\t121.8\\t124.8\\t125.2\\t123.2\\t125.6\\t122.2\\t123.5\\t124.1\\t122.5\\t121.0\\t124.3\\t122.2\\t126.2\\t125.6\\t122.8\\t124.5\\t 82.4\\t 63.2\\t 39.8\\t 22.5\\t 11.8\\t  5.9\\t  3.3\\tvlsr\\t   -5.20\\n',\n",
       " '2021:299:19:46:05\\t 227.5\\t 18.7\\t -4.0\\t  0.0\\t332.2\\t 43.0\\t 1419.75\\t0.00781250\\t  1\\t 64\\t  2.9\\t  3.5\\t  6.2\\t 12.4\\t 24.0\\t 43.6\\t 73.6\\t 96.6\\t133.0\\t131.7\\t132.7\\t135.7\\t131.8\\t135.5\\t133.7\\t132.5\\t132.0\\t132.9\\t133.7\\t129.5\\t133.7\\t130.5\\t131.5\\t131.4\\t127.5\\t137.9\\t133.3\\t133.6\\t133.7\\t133.5\\t133.9\\t131.3\\t133.4\\t128.9\\t129.1\\t131.0\\t135.4\\t133.8\\t133.9\\t128.5\\t133.5\\t132.5\\t135.0\\t128.0\\t132.4\\t131.6\\t134.0\\t131.9\\t135.6\\t133.1\\t133.9\\t132.3\\t135.8\\t129.7\\t131.6\\t134.1\\t135.5\\t 90.6\\t 65.8\\t 43.7\\t 24.6\\t 12.7\\t  6.2\\t  3.6\\tvlsr\\t   -5.62\\n',\n",
       " '2021:299:19:46:10\\t 228.5\\t 18.7\\t -3.0\\t  0.0\\t331.5\\t 43.9\\t 1419.75\\t0.00781250\\t  1\\t 64\\t  3.0\\t  3.9\\t  6.7\\t 13.8\\t 26.8\\t 45.1\\t 80.4\\t103.6\\t142.4\\t140.9\\t144.9\\t144.9\\t146.1\\t139.8\\t143.7\\t142.1\\t143.8\\t146.1\\t142.8\\t145.2\\t143.3\\t144.4\\t143.4\\t139.8\\t145.4\\t141.4\\t142.7\\t139.6\\t143.3\\t143.6\\t143.2\\t142.0\\t144.1\\t147.1\\t142.0\\t141.6\\t142.9\\t141.3\\t140.1\\t140.8\\t144.5\\t146.8\\t143.5\\t143.5\\t140.8\\t146.0\\t141.4\\t143.4\\t143.6\\t144.5\\t141.3\\t144.4\\t144.8\\t143.0\\t147.3\\t146.1\\t142.7\\t 99.7\\t 74.4\\t 46.3\\t 26.2\\t 13.6\\t  6.8\\t  3.8\\tvlsr\\t   -6.03\\n',\n",
       " '2021:299:19:46:15\\t 229.6\\t 18.7\\t -2.0\\t  0.0\\t330.9\\t 44.7\\t 1419.75\\t0.00781250\\t  1\\t 64\\t  3.5\\t  4.4\\t  7.4\\t 15.4\\t 29.9\\t 51.0\\t 89.5\\t115.5\\t163.3\\t163.0\\t159.9\\t157.2\\t158.2\\t153.9\\t159.7\\t163.7\\t159.8\\t164.8\\t162.6\\t161.7\\t164.0\\t164.4\\t165.0\\t158.1\\t158.2\\t161.0\\t163.5\\t164.1\\t163.1\\t164.1\\t162.1\\t163.3\\t160.7\\t162.1\\t158.6\\t160.6\\t166.2\\t163.1\\t165.1\\t160.3\\t164.0\\t161.6\\t163.2\\t165.5\\t162.6\\t160.1\\t164.8\\t161.3\\t161.8\\t163.5\\t162.0\\t162.6\\t164.8\\t163.4\\t166.0\\t166.4\\t158.4\\t111.6\\t 80.0\\t 52.3\\t 30.2\\t 15.6\\t  7.7\\t  4.4\\tvlsr\\t   -6.45\\n',\n",
       " '2021:299:19:46:19\\t 230.4\\t 18.7\\t -1.0\\t  0.0\\t330.4\\t 45.4\\t 1419.75\\t0.00781250\\t  1\\t 64\\t  3.9\\t  4.8\\t  8.3\\t 17.1\\t 32.7\\t 57.8\\t 97.4\\t124.5\\t181.3\\t180.0\\t178.5\\t178.0\\t174.4\\t174.6\\t179.4\\t181.5\\t174.3\\t176.0\\t172.1\\t179.6\\t180.0\\t182.2\\t176.9\\t177.3\\t174.7\\t176.9\\t176.4\\t177.3\\t175.4\\t178.7\\t182.0\\t181.5\\t179.6\\t176.4\\t182.3\\t176.5\\t177.8\\t179.1\\t180.9\\t183.3\\t179.1\\t180.5\\t179.9\\t173.2\\t177.2\\t181.2\\t178.7\\t182.1\\t174.1\\t182.7\\t178.8\\t176.6\\t180.5\\t181.4\\t181.4\\t180.0\\t175.9\\t125.7\\t 91.6\\t 57.2\\t 33.1\\t 17.1\\t  8.5\\t  4.7\\tvlsr\\t   -6.77\\n',\n",
       " '2021:299:19:46:24\\t 231.5\\t 18.7\\t  0.0\\t  0.0\\t329.7\\t 46.3\\t 1419.75\\t0.00781250\\t  1\\t 64\\t  4.2\\t  5.3\\t  9.5\\t 18.4\\t 35.5\\t 62.8\\t103.9\\t138.1\\t197.1\\t196.8\\t190.1\\t199.7\\t200.3\\t190.7\\t192.3\\t192.7\\t194.9\\t200.7\\t195.1\\t196.5\\t199.6\\t197.5\\t192.1\\t197.7\\t194.3\\t197.0\\t193.8\\t195.1\\t197.8\\t192.6\\t197.6\\t193.0\\t198.9\\t195.5\\t195.7\\t193.9\\t203.9\\t192.3\\t196.0\\t199.1\\t194.0\\t198.1\\t201.8\\t192.8\\t198.0\\t202.8\\t195.9\\t196.5\\t195.0\\t200.6\\t201.7\\t198.2\\t198.4\\t195.9\\t196.6\\t202.8\\t196.0\\t134.6\\t101.0\\t 64.7\\t 36.1\\t 18.8\\t  9.2\\t  5.3\\tvlsr\\t   -7.19\\n',\n",
       " '2021:299:19:46:29\\t 232.5\\t 18.7\\t  1.0\\t  0.0\\t329.0\\t 47.1\\t 1419.75\\t0.00781250\\t  1\\t 64\\t  4.7\\t  5.6\\t  9.8\\t 19.7\\t 38.7\\t 66.8\\t111.9\\t144.1\\t202.4\\t213.2\\t209.9\\t208.9\\t211.0\\t202.9\\t204.9\\t208.6\\t211.2\\t203.7\\t207.1\\t206.5\\t209.0\\t209.4\\t205.1\\t212.9\\t207.1\\t204.7\\t207.6\\t202.7\\t205.2\\t206.9\\t213.8\\t205.3\\t207.3\\t209.3\\t215.0\\t203.0\\t208.6\\t214.7\\t206.0\\t211.5\\t211.7\\t205.5\\t212.8\\t206.2\\t205.8\\t212.1\\t213.4\\t210.1\\t211.0\\t211.0\\t207.6\\t210.4\\t208.9\\t212.1\\t204.4\\t206.0\\t206.1\\t142.3\\t107.4\\t 67.7\\t 39.3\\t 20.4\\t 10.3\\t  5.7\\tvlsr\\t   -7.60\\n',\n",
       " '2021:299:19:46:33\\t 233.6\\t 18.7\\t  2.0\\t  0.0\\t328.3\\t 48.0\\t 1419.75\\t0.00781250\\t  1\\t 64\\t  4.5\\t  5.6\\t  9.7\\t 19.2\\t 37.7\\t 67.1\\t110.8\\t145.2\\t202.4\\t201.7\\t208.9\\t211.7\\t203.8\\t201.2\\t206.0\\t202.7\\t206.5\\t205.3\\t208.9\\t214.3\\t203.1\\t203.3\\t210.6\\t205.2\\t206.7\\t206.8\\t203.5\\t209.8\\t204.9\\t205.4\\t205.3\\t211.7\\t216.2\\t207.8\\t206.8\\t203.7\\t204.1\\t211.5\\t202.4\\t208.6\\t208.2\\t210.3\\t205.9\\t210.0\\t208.1\\t208.4\\t207.2\\t206.9\\t208.3\\t208.8\\t212.1\\t209.2\\t205.9\\t207.3\\t208.6\\t204.2\\t204.7\\t141.7\\t100.9\\t 68.8\\t 38.6\\t 19.8\\t  9.8\\t  5.6\\tvlsr\\t   -8.01\\n',\n",
       " '2021:299:19:46:38\\t 234.6\\t 18.7\\t  3.0\\t  0.0\\t327.5\\t 48.9\\t 1419.75\\t0.00781250\\t  1\\t 64\\t  4.4\\t  5.4\\t  9.2\\t 18.9\\t 35.8\\t 63.5\\t103.7\\t138.1\\t198.7\\t185.9\\t192.2\\t194.7\\t197.1\\t190.7\\t193.4\\t193.1\\t194.6\\t196.2\\t193.0\\t196.5\\t197.7\\t194.7\\t201.7\\t188.3\\t201.0\\t196.8\\t197.5\\t196.5\\t196.2\\t198.6\\t197.3\\t197.6\\t197.0\\t194.2\\t192.6\\t194.2\\t197.8\\t194.6\\t197.9\\t198.2\\t198.4\\t199.0\\t199.7\\t199.3\\t199.9\\t193.2\\t198.7\\t195.4\\t198.8\\t199.0\\t196.5\\t200.6\\t199.2\\t197.3\\t201.5\\t198.4\\t197.2\\t137.2\\t100.7\\t 62.0\\t 37.7\\t 18.8\\t  9.4\\t  5.4\\tvlsr\\t   -8.41\\n',\n",
       " '2021:299:19:46:43\\t 235.7\\t 18.7\\t  4.0\\t  0.0\\t326.8\\t 49.7\\t 1419.75\\t0.00781250\\t  1\\t 64\\t  3.8\\t  4.7\\t  8.3\\t 16.9\\t 33.1\\t 56.3\\t 96.5\\t125.1\\t173.8\\t175.6\\t175.7\\t180.2\\t181.4\\t179.8\\t178.5\\t174.7\\t179.3\\t177.0\\t175.2\\t172.5\\t173.4\\t179.8\\t173.7\\t176.7\\t177.7\\t175.7\\t178.3\\t177.9\\t173.5\\t177.8\\t177.2\\t181.1\\t172.2\\t176.9\\t176.3\\t179.0\\t172.6\\t170.0\\t175.8\\t184.1\\t179.4\\t176.0\\t176.3\\t175.4\\t177.7\\t176.6\\t177.8\\t177.8\\t179.2\\t179.0\\t179.0\\t177.6\\t183.0\\t183.3\\t181.9\\t179.7\\t177.4\\t121.7\\t 90.7\\t 57.8\\t 32.7\\t 17.1\\t  8.3\\t  4.8\\tvlsr\\t   -8.82\\n',\n",
       " '2021:299:19:46:47\\t 236.5\\t 18.7\\t  5.0\\t  0.0\\t326.2\\t 50.4\\t 1419.75\\t0.00781250\\t  1\\t 64\\t  3.3\\t  4.2\\t  7.6\\t 15.3\\t 29.2\\t 51.0\\t 87.6\\t114.0\\t162.3\\t156.6\\t160.7\\t162.6\\t160.9\\t158.3\\t160.6\\t158.4\\t160.3\\t156.7\\t156.0\\t157.4\\t163.2\\t161.8\\t154.0\\t159.8\\t156.8\\t160.9\\t157.2\\t160.0\\t156.7\\t158.8\\t162.3\\t159.1\\t157.7\\t157.8\\t155.9\\t163.1\\t161.4\\t166.5\\t157.5\\t157.1\\t161.8\\t161.8\\t166.4\\t160.7\\t158.6\\t160.5\\t159.8\\t160.1\\t157.8\\t163.7\\t167.1\\t160.8\\t161.7\\t166.4\\t163.6\\t165.6\\t164.7\\t109.3\\t 82.6\\t 53.1\\t 28.7\\t 15.4\\t  7.6\\t  4.4\\tvlsr\\t   -9.14\\n',\n",
       " '2021:299:19:46:53\\t 237.6\\t 18.5\\t  6.0\\t  0.0\\t325.2\\t 51.2\\t 1419.75\\t0.00781250\\t  1\\t 64\\t  3.0\\t  3.6\\t  6.5\\t 13.6\\t 25.9\\t 45.4\\t 77.7\\t101.2\\t139.7\\t142.4\\t142.4\\t139.1\\t138.5\\t140.1\\t135.9\\t140.3\\t137.4\\t144.9\\t141.2\\t138.1\\t141.1\\t138.0\\t138.7\\t140.7\\t140.9\\t138.4\\t139.6\\t141.4\\t137.4\\t137.2\\t143.1\\t140.2\\t142.0\\t139.6\\t137.0\\t139.1\\t139.3\\t143.2\\t138.3\\t145.0\\t141.9\\t139.9\\t142.6\\t140.5\\t143.0\\t144.3\\t144.7\\t139.1\\t144.5\\t140.0\\t142.9\\t141.5\\t141.5\\t143.9\\t142.7\\t146.1\\t140.8\\t 98.6\\t 71.1\\t 45.7\\t 26.2\\t 13.5\\t  6.7\\t  3.8\\tvlsr\\t   -9.52\\n',\n",
       " '2021:299:19:46:57\\t 238.7\\t 18.5\\t  7.0\\t  0.0\\t324.4\\t 52.0\\t 1419.75\\t0.00781250\\t  1\\t 64\\t  2.7\\t  3.5\\t  6.0\\t 12.2\\t 24.2\\t 41.7\\t 73.8\\t 92.4\\t128.7\\t127.5\\t127.4\\t130.3\\t128.8\\t129.7\\t128.6\\t128.2\\t127.0\\t126.3\\t125.3\\t127.0\\t123.1\\t124.9\\t128.1\\t126.6\\t127.5\\t132.0\\t126.2\\t131.6\\t129.2\\t127.6\\t128.6\\t127.0\\t128.8\\t128.6\\t128.4\\t127.5\\t130.3\\t132.6\\t127.1\\t129.0\\t126.0\\t130.0\\t131.8\\t130.7\\t135.7\\t132.9\\t125.5\\t130.8\\t127.2\\t128.0\\t127.3\\t127.5\\t131.0\\t130.0\\t130.6\\t129.7\\t128.7\\t 89.7\\t 65.2\\t 41.6\\t 23.4\\t 12.4\\t  6.0\\t  3.5\\tvlsr\\t   -9.92\\n',\n",
       " '2021:299:19:47:02\\t 239.7\\t 18.5\\t  8.0\\t  0.0\\t323.6\\t 52.9\\t 1419.75\\t0.00781250\\t  1\\t 64\\t  2.7\\t  3.3\\t  5.7\\t 12.1\\t 22.5\\t 39.8\\t 70.9\\t 90.0\\t123.9\\t125.7\\t122.3\\t123.8\\t124.2\\t120.9\\t125.3\\t119.5\\t120.5\\t123.5\\t121.9\\t120.5\\t122.6\\t123.1\\t123.1\\t121.0\\t122.2\\t122.2\\t121.3\\t122.0\\t123.9\\t124.0\\t125.3\\t123.5\\t120.1\\t127.4\\t125.3\\t122.4\\t123.1\\t126.4\\t122.7\\t123.9\\t122.8\\t124.0\\t128.2\\t121.2\\t128.6\\t132.7\\t122.4\\t122.3\\t120.9\\t123.8\\t123.0\\t126.3\\t125.6\\t123.8\\t122.8\\t124.1\\t124.5\\t 88.2\\t 62.8\\t 40.8\\t 22.4\\t 11.6\\t  5.9\\t  3.3\\tvlsr\\t  -10.32\\n',\n",
       " '2021:299:19:47:07\\t 240.8\\t 18.5\\t  9.0\\t  0.0\\t322.7\\t 53.7\\t 1419.75\\t0.00781250\\t  1\\t 64\\t  2.6\\t  3.3\\t  5.6\\t 11.3\\t 21.9\\t 39.2\\t 67.1\\t 88.5\\t125.2\\t119.1\\t122.0\\t124.4\\t120.6\\t117.7\\t118.3\\t117.8\\t118.6\\t120.4\\t120.4\\t118.7\\t119.0\\t117.4\\t119.4\\t120.9\\t114.8\\t119.1\\t119.3\\t123.1\\t120.3\\t119.1\\t120.1\\t120.4\\t122.2\\t119.2\\t118.5\\t123.4\\t117.0\\t122.4\\t116.8\\t120.7\\t118.7\\t117.2\\t119.6\\t118.6\\t125.3\\t120.6\\t119.3\\t120.4\\t118.9\\t119.7\\t120.0\\t119.5\\t124.5\\t120.6\\t118.8\\t119.6\\t122.1\\t 85.6\\t 60.5\\t 38.6\\t 22.8\\t 11.6\\t  5.7\\t  3.3\\tvlsr\\t  -10.72\\n',\n",
       " '2021:299:19:47:11\\t 241.6\\t 18.5\\t 10.0\\t  0.0\\t322.0\\t 54.4\\t 1419.75\\t0.00781250\\t  1\\t 64\\t  2.6\\t  3.2\\t  5.6\\t 11.5\\t 21.8\\t 38.1\\t 71.7\\t 87.1\\t120.2\\t122.8\\t121.8\\t118.0\\t120.7\\t118.3\\t119.1\\t118.1\\t115.7\\t120.2\\t118.8\\t120.2\\t118.3\\t119.6\\t116.5\\t119.2\\t118.5\\t116.8\\t118.0\\t118.4\\t120.4\\t117.6\\t119.1\\t117.7\\t123.4\\t119.8\\t120.9\\t120.4\\t119.7\\t117.2\\t122.4\\t118.5\\t121.4\\t119.2\\t121.7\\t119.6\\t123.7\\t118.4\\t120.7\\t122.0\\t122.0\\t117.8\\t122.4\\t118.0\\t120.0\\t123.0\\t119.4\\t121.4\\t119.8\\t 80.9\\t 59.7\\t 39.6\\t 22.1\\t 11.2\\t  5.7\\t  3.2\\tvlsr\\t  -11.03\\n',\n",
       " '2021:299:19:47:16\\t 242.7\\t 18.5\\t 11.0\\t  0.0\\t321.1\\t 55.2\\t 1419.75\\t0.00781250\\t  1\\t 64\\t  2.7\\t  3.3\\t  6.0\\t 11.6\\t 22.4\\t 38.7\\t 70.5\\t 88.0\\t119.7\\t120.2\\t117.9\\t126.0\\t122.8\\t126.6\\t121.1\\t125.6\\t122.3\\t124.0\\t123.9\\t120.3\\t121.4\\t119.9\\t121.7\\t125.5\\t119.4\\t118.6\\t119.7\\t122.5\\t123.7\\t123.3\\t122.2\\t119.6\\t122.2\\t121.1\\t122.8\\t118.9\\t122.0\\t121.4\\t120.3\\t122.5\\t124.8\\t121.5\\t123.0\\t121.2\\t124.4\\t122.1\\t118.9\\t122.8\\t124.4\\t124.0\\t122.0\\t120.5\\t123.7\\t121.9\\t124.6\\t126.7\\t122.5\\t 86.3\\t 61.5\\t 40.2\\t 23.1\\t 11.6\\t  5.9\\t  3.3\\tvlsr\\t  -11.43\\n',\n",
       " '2021:299:19:47:20\\t 243.7\\t 18.5\\t 12.0\\t  0.0\\t320.2\\t 56.1\\t 1419.75\\t0.00781250\\t  1\\t 64\\t  2.6\\t  3.3\\t  5.7\\t 11.8\\t 22.7\\t 39.2\\t 68.2\\t 87.3\\t120.9\\t120.3\\t124.6\\t122.5\\t123.4\\t121.7\\t120.0\\t122.9\\t121.2\\t120.7\\t119.6\\t120.0\\t120.2\\t120.8\\t123.6\\t121.3\\t122.3\\t126.1\\t119.7\\t119.4\\t122.6\\t123.6\\t120.3\\t119.2\\t123.8\\t116.0\\t121.9\\t119.9\\t121.1\\t121.4\\t122.2\\t119.4\\t120.0\\t121.0\\t122.3\\t124.0\\t124.3\\t118.3\\t122.2\\t122.3\\t121.2\\t120.7\\t124.5\\t123.1\\t122.7\\t123.8\\t122.6\\t123.5\\t123.4\\t 85.7\\t 62.5\\t 40.1\\t 22.2\\t 11.9\\t  5.7\\t  3.3\\tvlsr\\t  -11.82\\n',\n",
       " '2021:299:19:47:25\\t 244.8\\t 18.5\\t 13.0\\t  0.0\\t319.3\\t 56.9\\t 1419.75\\t0.00781250\\t  1\\t 64\\t  2.6\\t  3.3\\t  5.7\\t 11.6\\t 23.0\\t 39.0\\t 74.2\\t 91.3\\t123.4\\t125.0\\t121.9\\t125.6\\t124.0\\t121.2\\t121.6\\t120.3\\t122.4\\t122.9\\t122.9\\t124.0\\t120.7\\t120.8\\t118.8\\t122.6\\t120.5\\t121.0\\t123.1\\t123.1\\t120.0\\t120.2\\t124.0\\t118.1\\t123.4\\t120.7\\t123.4\\t120.2\\t121.9\\t126.2\\t117.4\\t123.3\\t123.7\\t124.6\\t126.2\\t119.0\\t123.8\\t119.3\\t122.9\\t126.3\\t124.1\\t123.4\\t123.6\\t123.5\\t124.5\\t121.9\\t129.3\\t123.9\\t125.7\\t 87.3\\t 62.8\\t 39.6\\t 22.7\\t 11.8\\t  5.7\\t  3.3\\tvlsr\\t  -12.21\\n',\n",
       " '2021:299:19:47:30\\t 245.8\\t 18.5\\t 14.0\\t  0.0\\t318.3\\t 57.7\\t 1419.75\\t0.00781250\\t  1\\t 64\\t  2.7\\t  3.3\\t  5.9\\t 11.9\\t 22.4\\t 39.8\\t 71.7\\t 89.2\\t124.8\\t125.0\\t126.5\\t126.0\\t124.2\\t124.4\\t127.0\\t121.5\\t123.2\\t122.3\\t121.6\\t123.6\\t125.6\\t123.4\\t120.0\\t121.2\\t120.5\\t123.0\\t122.1\\t125.7\\t122.4\\t119.1\\t122.9\\t120.7\\t122.8\\t121.3\\t117.0\\t122.3\\t125.2\\t126.4\\t123.2\\t123.4\\t126.2\\t122.4\\t122.8\\t123.2\\t118.3\\t121.7\\t124.8\\t121.4\\t126.3\\t124.8\\t126.1\\t124.3\\t123.6\\t123.6\\t125.6\\t123.8\\t125.3\\t 85.3\\t 61.8\\t 40.4\\t 22.5\\t 12.1\\t  6.0\\t  3.5\\tvlsr\\t  -12.59\\n',\n",
       " '2021:299:19:47:35\\t 246.9\\t 18.5\\t 15.0\\t  0.0\\t317.3\\t 58.5\\t 1419.75\\t0.00781250\\t  1\\t 64\\t  2.7\\t  3.3\\t  5.7\\t 11.6\\t 22.8\\t 40.8\\t 72.1\\t 89.7\\t123.6\\t121.6\\t124.6\\t125.0\\t123.9\\t124.6\\t123.8\\t122.5\\t122.7\\t122.6\\t119.8\\t119.6\\t121.0\\t122.5\\t125.0\\t125.4\\t127.5\\t122.8\\t120.2\\t119.5\\t123.4\\t120.4\\t121.8\\t119.9\\t122.0\\t122.3\\t123.5\\t122.3\\t118.4\\t125.7\\t123.5\\t123.1\\t124.0\\t123.4\\t122.2\\t123.4\\t122.5\\t122.8\\t122.3\\t126.3\\t120.9\\t119.5\\t126.6\\t124.4\\t124.5\\t124.3\\t122.5\\t123.9\\t125.7\\t 86.5\\t 64.4\\t 40.1\\t 22.5\\t 11.9\\t  5.9\\t  3.3\\tvlsr\\t  -12.97\\n']"
      ]
     },
     "execution_count": 23,
     "metadata": {},
     "output_type": "execute_result"
    }
   ],
   "source": [
    "data"
   ]
  },
  {
   "cell_type": "code",
   "execution_count": 24,
   "metadata": {},
   "outputs": [
    {
     "data": {
      "text/plain": [
       "['2021:299:19:45:13',\n",
       " '216.3',\n",
       " '18.8',\n",
       " '-15.0',\n",
       " '0.0',\n",
       " '338.6',\n",
       " '33.9',\n",
       " '1419.75',\n",
       " '0.00781250',\n",
       " '1',\n",
       " '64',\n",
       " '2.7',\n",
       " '3.3',\n",
       " '5.9',\n",
       " '11.8',\n",
       " '23.6',\n",
       " '41.7',\n",
       " '71.5',\n",
       " '91.2',\n",
       " '127.5',\n",
       " '125.2',\n",
       " '124.1',\n",
       " '124.1',\n",
       " '121.8',\n",
       " '125.2',\n",
       " '124.1',\n",
       " '121.1',\n",
       " '123.0',\n",
       " '121.1',\n",
       " '117.4',\n",
       " '120.3',\n",
       " '118.9',\n",
       " '120.6',\n",
       " '117.5',\n",
       " '119.8',\n",
       " '115.1',\n",
       " '119.1',\n",
       " '120.0',\n",
       " '119.7',\n",
       " '117.3',\n",
       " '121.7',\n",
       " '120.6',\n",
       " '121.6',\n",
       " '119.5',\n",
       " '119.2',\n",
       " '118.2',\n",
       " '123.0',\n",
       " '123.4',\n",
       " '122.7',\n",
       " '120.9',\n",
       " '122.7',\n",
       " '121.3',\n",
       " '120.1',\n",
       " '118.9',\n",
       " '118.6',\n",
       " '124.3',\n",
       " '122.4',\n",
       " '118.6',\n",
       " '117.8',\n",
       " '122.0',\n",
       " '118.1',\n",
       " '118.3',\n",
       " '120.0',\n",
       " '120.7',\n",
       " '124.7',\n",
       " '121.0',\n",
       " '123.0',\n",
       " '120.7',\n",
       " '82.9',\n",
       " '59.7',\n",
       " '38.4',\n",
       " '22.2',\n",
       " '11.6',\n",
       " '5.7',\n",
       " '3.3',\n",
       " 'vlsr',\n",
       " '-1.26']"
      ]
     },
     "execution_count": 24,
     "metadata": {},
     "output_type": "execute_result"
    }
   ],
   "source": [
    "data[1].split()"
   ]
  },
  {
   "cell_type": "code",
   "execution_count": 25,
   "metadata": {},
   "outputs": [],
   "source": [
    "test1 = data[1].split()"
   ]
  },
  {
   "cell_type": "code",
   "execution_count": 27,
   "metadata": {},
   "outputs": [],
   "source": [
    "testfreq = test1[test1.index('64') + 1:test1.index('vlsr')]"
   ]
  },
  {
   "cell_type": "code",
   "execution_count": 28,
   "metadata": {},
   "outputs": [
    {
     "data": {
      "text/plain": [
       "['2.7',\n",
       " '3.3',\n",
       " '5.9',\n",
       " '11.8',\n",
       " '23.6',\n",
       " '41.7',\n",
       " '71.5',\n",
       " '91.2',\n",
       " '127.5',\n",
       " '125.2',\n",
       " '124.1',\n",
       " '124.1',\n",
       " '121.8',\n",
       " '125.2',\n",
       " '124.1',\n",
       " '121.1',\n",
       " '123.0',\n",
       " '121.1',\n",
       " '117.4',\n",
       " '120.3',\n",
       " '118.9',\n",
       " '120.6',\n",
       " '117.5',\n",
       " '119.8',\n",
       " '115.1',\n",
       " '119.1',\n",
       " '120.0',\n",
       " '119.7',\n",
       " '117.3',\n",
       " '121.7',\n",
       " '120.6',\n",
       " '121.6',\n",
       " '119.5',\n",
       " '119.2',\n",
       " '118.2',\n",
       " '123.0',\n",
       " '123.4',\n",
       " '122.7',\n",
       " '120.9',\n",
       " '122.7',\n",
       " '121.3',\n",
       " '120.1',\n",
       " '118.9',\n",
       " '118.6',\n",
       " '124.3',\n",
       " '122.4',\n",
       " '118.6',\n",
       " '117.8',\n",
       " '122.0',\n",
       " '118.1',\n",
       " '118.3',\n",
       " '120.0',\n",
       " '120.7',\n",
       " '124.7',\n",
       " '121.0',\n",
       " '123.0',\n",
       " '120.7',\n",
       " '82.9',\n",
       " '59.7',\n",
       " '38.4',\n",
       " '22.2',\n",
       " '11.6',\n",
       " '5.7',\n",
       " '3.3']"
      ]
     },
     "execution_count": 28,
     "metadata": {},
     "output_type": "execute_result"
    }
   ],
   "source": [
    "testfreq"
   ]
  },
  {
   "cell_type": "code",
   "execution_count": 32,
   "metadata": {},
   "outputs": [],
   "source": [
    "avgs = []\n",
    "for line in data:\n",
    "    vals = line.split()\n",
    "    freqs = vals[vals.index('64') + 1:vals.index('vlsr')]\n",
    "    nums = [float(freq) for freq in freqs]\n",
    "    avgs.append(np.average(nums))"
   ]
  },
  {
   "cell_type": "code",
   "execution_count": 34,
   "metadata": {},
   "outputs": [
    {
     "data": {
      "text/plain": [
       "[160.6015625,\n",
       " 100.0375,\n",
       " 99.85625,\n",
       " 99.9359375,\n",
       " 98.9703125,\n",
       " 100.915625,\n",
       " 101.13437499999999,\n",
       " 99.9609375,\n",
       " 102.621875,\n",
       " 99.75,\n",
       " 99.59218750000001,\n",
       " 102.040625,\n",
       " 109.546875,\n",
       " 118.38125,\n",
       " 133.840625,\n",
       " 147.38437499999998,\n",
       " 162.23125,\n",
       " 171.95156250000002,\n",
       " 170.7796875,\n",
       " 162.16875,\n",
       " 146.3796875,\n",
       " 132.3875,\n",
       " 116.290625,\n",
       " 106.26875000000001,\n",
       " 102.1328125,\n",
       " 99.17656249999999,\n",
       " 98.91874999999999,\n",
       " 100.9875,\n",
       " 100.5421875,\n",
       " 101.471875,\n",
       " 101.890625,\n",
       " 101.671875]"
      ]
     },
     "execution_count": 34,
     "metadata": {},
     "output_type": "execute_result"
    }
   ],
   "source": [
    "avgs"
   ]
  },
  {
   "cell_type": "code",
   "execution_count": 36,
   "metadata": {},
   "outputs": [
    {
     "data": {
      "text/plain": [
       "[<matplotlib.lines.Line2D at 0x174f2a57488>]"
      ]
     },
     "execution_count": 36,
     "metadata": {},
     "output_type": "execute_result"
    },
    {
     "data": {
      "image/png": "[encoded data removed]",
      "text/plain": [
       "<Figure size 432x288 with 1 Axes>"
      ]
     },
     "metadata": {
      "needs_background": "light"
     },
     "output_type": "display_data"
    }
   ],
   "source": [
    "plt.plot(avgs[1:])"
   ]
  },
  {
   "cell_type": "code",
   "execution_count": null,
   "metadata": {},
   "outputs": [],
   "source": []
  }
 ],
 "metadata": {
  "kernelspec": {
   "display_name": "Python 3",
   "language": "python",
   "name": "python3"
  },
  "language_info": {
   "codemirror_mode": {
    "name": "ipython",
    "version": 3
   },
   "file_extension": ".py",
   "mimetype": "text/x-python",
   "name": "python",
   "nbconvert_exporter": "python",
   "pygments_lexer": "ipython3",
   "version": "3.7.6"
  }
 },
 "nbformat": 4,
 "nbformat_minor": 4
}
